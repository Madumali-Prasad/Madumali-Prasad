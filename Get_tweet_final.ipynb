{
  "cells": [
    {
      "cell_type": "markdown",
      "metadata": {
        "id": "view-in-github",
        "colab_type": "text"
      },
      "source": [
        "<a href=\"https://colab.research.google.com/github/Madumali-Prasad/Madumali-Prasad/blob/main/Get_tweet_final.ipynb\" target=\"_parent\"><img src=\"https://colab.research.google.com/assets/colab-badge.svg\" alt=\"Open In Colab\"/></a>"
      ]
    },
    {
      "cell_type": "code",
      "execution_count": null,
      "metadata": {
        "id": "fH-m6Tbb0a0J"
      },
      "outputs": [],
      "source": [
        "import tweepy \n",
        "from tqdm import tqdm\n",
        "import re\n",
        "import datetime\n",
        "import pandas as pd\n",
        "\n",
        "#Twitter API credentials\n",
        "consumer_key = \"vKGMwbp2xKlxaM1kvyWMUTyxx\"\n",
        "consumer_secret = \"UAAuvczizcqGqD6A7NcMaM4eemPVumqadT7ZRJsfBS5pEVJiJn\"\n",
        "access_key = \"954661768915275776-m8w4eUgc0TLth6h5i9S8iswIiVSFwHx\"\n",
        "access_secret = \"lsdKaFayiH1Auik0oi2fOyKusVeiR8uIFW6iecKAOk9Cu\""
      ]
    },
    {
      "cell_type": "code",
      "execution_count": null,
      "metadata": {
        "colab": {
          "base_uri": "https://localhost:8080/"
        },
        "id": "BBRFXQjl-cx5",
        "outputId": "57e1aad4-1175-466f-8502-ef408e8e464f"
      },
      "outputs": [
        {
          "output_type": "stream",
          "name": "stdout",
          "text": [
            "[nltk_data] Downloading package stopwords to /root/nltk_data...\n",
            "[nltk_data]   Package stopwords is already up-to-date!\n",
            "[nltk_data] Downloading package wordnet to /root/nltk_data...\n",
            "[nltk_data]   Package wordnet is already up-to-date!\n"
          ]
        },
        {
          "output_type": "execute_result",
          "data": {
            "text/plain": [
              "True"
            ]
          },
          "metadata": {},
          "execution_count": 21
        }
      ],
      "source": [
        "import nltk\n",
        "nltk.download('stopwords')\n",
        "nltk.download('wordnet')"
      ]
    },
    {
      "cell_type": "code",
      "execution_count": null,
      "metadata": {
        "colab": {
          "base_uri": "https://localhost:8080/"
        },
        "id": "SR2KzleV0QkU",
        "outputId": "fe02952e-7662-46af-95a3-bacd55e824e8"
      },
      "outputs": [
        {
          "output_type": "stream",
          "name": "stdout",
          "text": [
            "Done Extraction\n",
            "There are 2615 tweets filtered in finance sector\n"
          ]
        }
      ],
      "source": [
        "import datetime \n",
        "\n",
        "try:\n",
        " auth = tweepy.OAuthHandler(consumer_key, consumer_secret)\n",
        " auth.set_access_token(access_key, access_secret)\n",
        " auth.get_authorization_url()\n",
        " api = tweepy.API(auth,wait_on_rate_limit=True,wait_on_rate_limit_notify=True,compression=True,retry_count=3,retry_delay=10,timeout=15)\n",
        "except tweepy.TweepError:\n",
        " print ('Error')\n",
        "\n",
        "name=\"OxfordEconomics\"\n",
        "\n",
        "startDate = datetime.datetime(2020,8, 15, 5, 00, 00)\n",
        "endDate =   datetime.datetime(2022, 5, 31, 13, 00, 00)\n",
        "\n",
        "say=0\n",
        "tweets = []\n",
        "from time import sleep\n",
        "tmpTweets = api.user_timeline(name,count=200,tweet_mode=\"extended\",lang=\"tr\")\n",
        "\n",
        "for tweet in tmpTweets:\n",
        "        if tweet.created_at < endDate and tweet.created_at > startDate:\n",
        "            tweets.append(tweet)\n",
        "\n",
        "lastTweet = tmpTweets[-1].id\n",
        "while (tmpTweets[-1].created_at > startDate):\n",
        "    #print(\"SriLankaTweet @\", tmpTweets[-1].created_at,say)\n",
        "\n",
        "    tmpTweets = api.user_timeline(name,max_id = tmpTweets[-1].id,tweet_mode=\"extended\")\n",
        "    if lastTweet == tmpTweets[-1].id:\n",
        "        print(\"lastTweet\")\n",
        "        sleep(2)\n",
        "    else:\n",
        "        for tweet in tmpTweets:\n",
        "            if tweet.created_at < endDate and tweet.created_at > startDate:\n",
        "                tweets.append(tweet)\n",
        "    lastTweet = tmpTweets[-1].id\n",
        "    say+=1\n",
        "\n",
        "print(\"Done Extraction\")\n",
        "\n",
        "T_Text=[]\n",
        "T_Create=[]\n",
        "T_id=[]\n",
        "for i in tweets:\n",
        "  T_id.append(i.id)\n",
        "  T_Create.append(str(i.created_at))\n",
        "  T_Text.append(i.full_text)\n",
        "\n",
        "data_tweets=pd.DataFrame(list(zip(T_id,T_Create,T_Text)),columns=[\"id\",\"created_at\",\"text\"])\n",
        "print(f\"There are {len(data_tweets)} tweets filtered in finance sector\")"
      ]
    },
    {
      "cell_type": "markdown",
      "metadata": {
        "id": "0gCTaQCV3Cwx"
      },
      "source": [
        "## Getting Predictions"
      ]
    },
    {
      "cell_type": "code",
      "execution_count": null,
      "metadata": {
        "id": "qD5CdO_42wYf"
      },
      "outputs": [],
      "source": [
        "#Getting Predictions\n",
        "#Libraries\n",
        "from sklearn.feature_extraction.text import TfidfVectorizer \n",
        "from sklearn.feature_extraction.text import CountVectorizer\n",
        "from nltk import word_tokenize\n",
        "import joblib\n",
        "from sklearn.metrics import accuracy_score\n",
        "from nltk.corpus import stopwords\n",
        "from nltk.stem.wordnet import WordNetLemmatizer\n",
        "from nltk.stem.porter import PorterStemmer"
      ]
    },
    {
      "cell_type": "code",
      "execution_count": null,
      "metadata": {
        "id": "pyx1RdNz3HjA"
      },
      "outputs": [],
      "source": [
        "vectorizing_model = joblib.load(\"/content/Tweet_Vectorizer \") \n",
        "GS_model=joblib.load(\"/content/Best_model.sav\") "
      ]
    },
    {
      "cell_type": "code",
      "execution_count": null,
      "metadata": {
        "id": "TOuTKdsF3Ox8"
      },
      "outputs": [],
      "source": [
        "##Function to clean tweets\n",
        "\n",
        "stopwords_list = set(stopwords.words(\"english\"))\n",
        "lemmatizer = WordNetLemmatizer()\n",
        "porter_stemmer = PorterStemmer()\n",
        "punctuations='!\"#$%&\\'()*+,-./:;<=>?@[\\\\]^_`{|}~'\n",
        "lst=list(punctuations)\n",
        "\n",
        "def remove_unwanted(review):\n",
        "    splitReview = review.split()\n",
        "    splitReview = [word for word in splitReview if not word in stopwords_list] #Remove unwanted words\n",
        "    splitReview = [lemmatizer.lemmatize(word) for word in splitReview]  #Change the tense of the word\n",
        "    splitReview = [porter_stemmer.stem(word) for word in splitReview]  #Remove stemming\n",
        "    clean_review = ' '.join(splitReview)\n",
        "    return clean_review\n",
        "\n",
        "def clean_text(text):\n",
        "    text=text.lower()\n",
        "    for i in lst:\n",
        "        text = text.replace(i,'')\n",
        "    clean_text= remove_unwanted(text)\n",
        "    return clean_text"
      ]
    },
    {
      "cell_type": "code",
      "execution_count": null,
      "metadata": {
        "id": "Jw9fMhKD3Ppc",
        "colab": {
          "base_uri": "https://localhost:8080/"
        },
        "outputId": "da02476d-c127-42e9-9272-01b1142311eb"
      },
      "outputs": [
        {
          "output_type": "stream",
          "name": "stdout",
          "text": [
            "2615 2615 2615\n"
          ]
        }
      ],
      "source": [
        "All_prds=[]\n",
        "pred_prob=[]\n",
        "predict_labels={0:\"Negative Review\",1:\"Neutral Review\",2:\"Positive Review\"}\n",
        "for idx in range(len(data_tweets)):\n",
        "  cont=data_tweets.iloc[idx,2]\n",
        "  comment=cont.split('https')[0].strip()\n",
        "  comment_clean=clean_text(comment)\n",
        "  vectorized_comment=vectorizing_model.transform([comment_clean])\n",
        "  prd=GS_model.predict(vectorized_comment)\n",
        "\n",
        "  probability=GS_model.predict_proba(vectorized_comment)\n",
        "  pred_prob.append(probability[0][2])\n",
        "  All_prds.append(predict_labels[prd[0]])\n",
        "  #print(f\"Tweet:{comment}\")\n",
        "  #print(f\"Prediction: {predict_labels[prd[0]]}\\n\")\n",
        "\n",
        "print(len(data_tweets),len(All_prds),len(pred_prob))"
      ]
    },
    {
      "cell_type": "code",
      "execution_count": null,
      "metadata": {
        "id": "pstQcLbu6PGB",
        "colab": {
          "base_uri": "https://localhost:8080/"
        },
        "outputId": "ff0b6570-9a7d-40a5-d020-1068a845f40b"
      },
      "outputs": [
        {
          "output_type": "execute_result",
          "data": {
            "text/plain": [
              "                    id           created_at  \\\n",
              "0  1531214374974660608  2022-05-30 10:02:10   \n",
              "1  1531180678255083521  2022-05-30 07:48:16   \n",
              "2  1531083184259092480  2022-05-30 01:20:51   \n",
              "3  1530131888127545344  2022-05-27 10:20:45   \n",
              "4  1530104973824086016  2022-05-27 08:33:48   \n",
              "5  1529851356483399681  2022-05-26 15:46:01   \n",
              "6  1529828881582149635  2022-05-26 14:16:42   \n",
              "7  1529828858261819393  2022-05-26 14:16:37   \n",
              "8  1529824932871274496  2022-05-26 14:01:01   \n",
              "9  1529809830910873601  2022-05-26 13:01:00   \n",
              "\n",
              "                                                text        Sentiment  \\\n",
              "0  Now the big concern about inflation is where i...  Positive Review   \n",
              "1  APACs short-term economic outlook has deterior...   Neutral Review   \n",
              "2  Register here for our webinar presentation on ...  Negative Review   \n",
              "3  The scale of the increases in debt costs, coup...  Negative Review   \n",
              "4  哪些行业及领域能够成为稳增长的主要抓手？稳经济发力关键点为何？在近期接受的访问中，牛津经济研...  Negative Review   \n",
              "5  There is much speculation about Mexico being o...  Negative Review   \n",
              "6  Join Oxford Economics and Experian for the Qua...  Negative Review   \n",
              "7  Join Oxford Economics and Experian for the Qua...  Negative Review   \n",
              "8  A 10% correction is needed for US gateway indu...  Negative Review   \n",
              "9  Risks of a US recession have increased, partic...  Positive Review   \n",
              "\n",
              "   Positivity  \n",
              "0    0.398952  \n",
              "1    0.297345  \n",
              "2    0.314178  \n",
              "3    0.216324  \n",
              "4    0.343645  \n",
              "5    0.360020  \n",
              "6    0.363155  \n",
              "7    0.363155  \n",
              "8    0.213027  \n",
              "9    0.377584  "
            ],
            "text/html": [
              "\n",
              "  <div id=\"df-daba0d23-4caa-43f4-80cd-9f847a3006bb\">\n",
              "    <div class=\"colab-df-container\">\n",
              "      <div>\n",
              "<style scoped>\n",
              "    .dataframe tbody tr th:only-of-type {\n",
              "        vertical-align: middle;\n",
              "    }\n",
              "\n",
              "    .dataframe tbody tr th {\n",
              "        vertical-align: top;\n",
              "    }\n",
              "\n",
              "    .dataframe thead th {\n",
              "        text-align: right;\n",
              "    }\n",
              "</style>\n",
              "<table border=\"1\" class=\"dataframe\">\n",
              "  <thead>\n",
              "    <tr style=\"text-align: right;\">\n",
              "      <th></th>\n",
              "      <th>id</th>\n",
              "      <th>created_at</th>\n",
              "      <th>text</th>\n",
              "      <th>Sentiment</th>\n",
              "      <th>Positivity</th>\n",
              "    </tr>\n",
              "  </thead>\n",
              "  <tbody>\n",
              "    <tr>\n",
              "      <th>0</th>\n",
              "      <td>1531214374974660608</td>\n",
              "      <td>2022-05-30 10:02:10</td>\n",
              "      <td>Now the big concern about inflation is where i...</td>\n",
              "      <td>Positive Review</td>\n",
              "      <td>0.398952</td>\n",
              "    </tr>\n",
              "    <tr>\n",
              "      <th>1</th>\n",
              "      <td>1531180678255083521</td>\n",
              "      <td>2022-05-30 07:48:16</td>\n",
              "      <td>APACs short-term economic outlook has deterior...</td>\n",
              "      <td>Neutral Review</td>\n",
              "      <td>0.297345</td>\n",
              "    </tr>\n",
              "    <tr>\n",
              "      <th>2</th>\n",
              "      <td>1531083184259092480</td>\n",
              "      <td>2022-05-30 01:20:51</td>\n",
              "      <td>Register here for our webinar presentation on ...</td>\n",
              "      <td>Negative Review</td>\n",
              "      <td>0.314178</td>\n",
              "    </tr>\n",
              "    <tr>\n",
              "      <th>3</th>\n",
              "      <td>1530131888127545344</td>\n",
              "      <td>2022-05-27 10:20:45</td>\n",
              "      <td>The scale of the increases in debt costs, coup...</td>\n",
              "      <td>Negative Review</td>\n",
              "      <td>0.216324</td>\n",
              "    </tr>\n",
              "    <tr>\n",
              "      <th>4</th>\n",
              "      <td>1530104973824086016</td>\n",
              "      <td>2022-05-27 08:33:48</td>\n",
              "      <td>哪些行业及领域能够成为稳增长的主要抓手？稳经济发力关键点为何？在近期接受的访问中，牛津经济研...</td>\n",
              "      <td>Negative Review</td>\n",
              "      <td>0.343645</td>\n",
              "    </tr>\n",
              "    <tr>\n",
              "      <th>5</th>\n",
              "      <td>1529851356483399681</td>\n",
              "      <td>2022-05-26 15:46:01</td>\n",
              "      <td>There is much speculation about Mexico being o...</td>\n",
              "      <td>Negative Review</td>\n",
              "      <td>0.360020</td>\n",
              "    </tr>\n",
              "    <tr>\n",
              "      <th>6</th>\n",
              "      <td>1529828881582149635</td>\n",
              "      <td>2022-05-26 14:16:42</td>\n",
              "      <td>Join Oxford Economics and Experian for the Qua...</td>\n",
              "      <td>Negative Review</td>\n",
              "      <td>0.363155</td>\n",
              "    </tr>\n",
              "    <tr>\n",
              "      <th>7</th>\n",
              "      <td>1529828858261819393</td>\n",
              "      <td>2022-05-26 14:16:37</td>\n",
              "      <td>Join Oxford Economics and Experian for the Qua...</td>\n",
              "      <td>Negative Review</td>\n",
              "      <td>0.363155</td>\n",
              "    </tr>\n",
              "    <tr>\n",
              "      <th>8</th>\n",
              "      <td>1529824932871274496</td>\n",
              "      <td>2022-05-26 14:01:01</td>\n",
              "      <td>A 10% correction is needed for US gateway indu...</td>\n",
              "      <td>Negative Review</td>\n",
              "      <td>0.213027</td>\n",
              "    </tr>\n",
              "    <tr>\n",
              "      <th>9</th>\n",
              "      <td>1529809830910873601</td>\n",
              "      <td>2022-05-26 13:01:00</td>\n",
              "      <td>Risks of a US recession have increased, partic...</td>\n",
              "      <td>Positive Review</td>\n",
              "      <td>0.377584</td>\n",
              "    </tr>\n",
              "  </tbody>\n",
              "</table>\n",
              "</div>\n",
              "      <button class=\"colab-df-convert\" onclick=\"convertToInteractive('df-daba0d23-4caa-43f4-80cd-9f847a3006bb')\"\n",
              "              title=\"Convert this dataframe to an interactive table.\"\n",
              "              style=\"display:none;\">\n",
              "        \n",
              "  <svg xmlns=\"http://www.w3.org/2000/svg\" height=\"24px\"viewBox=\"0 0 24 24\"\n",
              "       width=\"24px\">\n",
              "    <path d=\"M0 0h24v24H0V0z\" fill=\"none\"/>\n",
              "    <path d=\"M18.56 5.44l.94 2.06.94-2.06 2.06-.94-2.06-.94-.94-2.06-.94 2.06-2.06.94zm-11 1L8.5 8.5l.94-2.06 2.06-.94-2.06-.94L8.5 2.5l-.94 2.06-2.06.94zm10 10l.94 2.06.94-2.06 2.06-.94-2.06-.94-.94-2.06-.94 2.06-2.06.94z\"/><path d=\"M17.41 7.96l-1.37-1.37c-.4-.4-.92-.59-1.43-.59-.52 0-1.04.2-1.43.59L10.3 9.45l-7.72 7.72c-.78.78-.78 2.05 0 2.83L4 21.41c.39.39.9.59 1.41.59.51 0 1.02-.2 1.41-.59l7.78-7.78 2.81-2.81c.8-.78.8-2.07 0-2.86zM5.41 20L4 18.59l7.72-7.72 1.47 1.35L5.41 20z\"/>\n",
              "  </svg>\n",
              "      </button>\n",
              "      \n",
              "  <style>\n",
              "    .colab-df-container {\n",
              "      display:flex;\n",
              "      flex-wrap:wrap;\n",
              "      gap: 12px;\n",
              "    }\n",
              "\n",
              "    .colab-df-convert {\n",
              "      background-color: #E8F0FE;\n",
              "      border: none;\n",
              "      border-radius: 50%;\n",
              "      cursor: pointer;\n",
              "      display: none;\n",
              "      fill: #1967D2;\n",
              "      height: 32px;\n",
              "      padding: 0 0 0 0;\n",
              "      width: 32px;\n",
              "    }\n",
              "\n",
              "    .colab-df-convert:hover {\n",
              "      background-color: #E2EBFA;\n",
              "      box-shadow: 0px 1px 2px rgba(60, 64, 67, 0.3), 0px 1px 3px 1px rgba(60, 64, 67, 0.15);\n",
              "      fill: #174EA6;\n",
              "    }\n",
              "\n",
              "    [theme=dark] .colab-df-convert {\n",
              "      background-color: #3B4455;\n",
              "      fill: #D2E3FC;\n",
              "    }\n",
              "\n",
              "    [theme=dark] .colab-df-convert:hover {\n",
              "      background-color: #434B5C;\n",
              "      box-shadow: 0px 1px 3px 1px rgba(0, 0, 0, 0.15);\n",
              "      filter: drop-shadow(0px 1px 2px rgba(0, 0, 0, 0.3));\n",
              "      fill: #FFFFFF;\n",
              "    }\n",
              "  </style>\n",
              "\n",
              "      <script>\n",
              "        const buttonEl =\n",
              "          document.querySelector('#df-daba0d23-4caa-43f4-80cd-9f847a3006bb button.colab-df-convert');\n",
              "        buttonEl.style.display =\n",
              "          google.colab.kernel.accessAllowed ? 'block' : 'none';\n",
              "\n",
              "        async function convertToInteractive(key) {\n",
              "          const element = document.querySelector('#df-daba0d23-4caa-43f4-80cd-9f847a3006bb');\n",
              "          const dataTable =\n",
              "            await google.colab.kernel.invokeFunction('convertToInteractive',\n",
              "                                                     [key], {});\n",
              "          if (!dataTable) return;\n",
              "\n",
              "          const docLinkHtml = 'Like what you see? Visit the ' +\n",
              "            '<a target=\"_blank\" href=https://colab.research.google.com/notebooks/data_table.ipynb>data table notebook</a>'\n",
              "            + ' to learn more about interactive tables.';\n",
              "          element.innerHTML = '';\n",
              "          dataTable['output_type'] = 'display_data';\n",
              "          await google.colab.output.renderOutput(dataTable, element);\n",
              "          const docLink = document.createElement('div');\n",
              "          docLink.innerHTML = docLinkHtml;\n",
              "          element.appendChild(docLink);\n",
              "        }\n",
              "      </script>\n",
              "    </div>\n",
              "  </div>\n",
              "  "
            ]
          },
          "metadata": {},
          "execution_count": 27
        }
      ],
      "source": [
        "#Final Prediction Dataframe\n",
        "data_tweets[\"Sentiment\"]=All_prds\n",
        "data_tweets[\"Positivity\"]=pred_prob\n",
        "data_tweets.head(10)"
      ]
    },
    {
      "cell_type": "code",
      "execution_count": null,
      "metadata": {
        "id": "GrYi4jGRAdt6"
      },
      "outputs": [],
      "source": [
        "from datetime import datetime\n",
        "d=[]\n",
        "for _,row in data_tweets.iterrows():\n",
        "  d.append(datetime.strptime(row[\"created_at\"], '%Y-%m-%d %H:%M:%S').date())"
      ]
    },
    {
      "cell_type": "code",
      "execution_count": null,
      "metadata": {
        "id": "E19T0tuuDfGq",
        "colab": {
          "base_uri": "https://localhost:8080/"
        },
        "outputId": "87d7ff10-2fe8-4ccc-ab85-b86c2ce7d9ff"
      },
      "outputs": [
        {
          "output_type": "execute_result",
          "data": {
            "text/plain": [
              "                    id           created_at  \\\n",
              "0  1531214374974660608  2022-05-30 10:02:10   \n",
              "1  1531180678255083521  2022-05-30 07:48:16   \n",
              "2  1531083184259092480  2022-05-30 01:20:51   \n",
              "\n",
              "                                                text        Sentiment  \\\n",
              "0  Now the big concern about inflation is where i...  Positive Review   \n",
              "1  APACs short-term economic outlook has deterior...   Neutral Review   \n",
              "2  Register here for our webinar presentation on ...  Negative Review   \n",
              "\n",
              "   Positivity    date_col  \n",
              "0    0.398952  2022-05-30  \n",
              "1    0.297345  2022-05-30  \n",
              "2    0.314178  2022-05-30  "
            ],
            "text/html": [
              "\n",
              "  <div id=\"df-d61f13eb-75ca-42f8-9107-4ebffc82fa3e\">\n",
              "    <div class=\"colab-df-container\">\n",
              "      <div>\n",
              "<style scoped>\n",
              "    .dataframe tbody tr th:only-of-type {\n",
              "        vertical-align: middle;\n",
              "    }\n",
              "\n",
              "    .dataframe tbody tr th {\n",
              "        vertical-align: top;\n",
              "    }\n",
              "\n",
              "    .dataframe thead th {\n",
              "        text-align: right;\n",
              "    }\n",
              "</style>\n",
              "<table border=\"1\" class=\"dataframe\">\n",
              "  <thead>\n",
              "    <tr style=\"text-align: right;\">\n",
              "      <th></th>\n",
              "      <th>id</th>\n",
              "      <th>created_at</th>\n",
              "      <th>text</th>\n",
              "      <th>Sentiment</th>\n",
              "      <th>Positivity</th>\n",
              "      <th>date_col</th>\n",
              "    </tr>\n",
              "  </thead>\n",
              "  <tbody>\n",
              "    <tr>\n",
              "      <th>0</th>\n",
              "      <td>1531214374974660608</td>\n",
              "      <td>2022-05-30 10:02:10</td>\n",
              "      <td>Now the big concern about inflation is where i...</td>\n",
              "      <td>Positive Review</td>\n",
              "      <td>0.398952</td>\n",
              "      <td>2022-05-30</td>\n",
              "    </tr>\n",
              "    <tr>\n",
              "      <th>1</th>\n",
              "      <td>1531180678255083521</td>\n",
              "      <td>2022-05-30 07:48:16</td>\n",
              "      <td>APACs short-term economic outlook has deterior...</td>\n",
              "      <td>Neutral Review</td>\n",
              "      <td>0.297345</td>\n",
              "      <td>2022-05-30</td>\n",
              "    </tr>\n",
              "    <tr>\n",
              "      <th>2</th>\n",
              "      <td>1531083184259092480</td>\n",
              "      <td>2022-05-30 01:20:51</td>\n",
              "      <td>Register here for our webinar presentation on ...</td>\n",
              "      <td>Negative Review</td>\n",
              "      <td>0.314178</td>\n",
              "      <td>2022-05-30</td>\n",
              "    </tr>\n",
              "  </tbody>\n",
              "</table>\n",
              "</div>\n",
              "      <button class=\"colab-df-convert\" onclick=\"convertToInteractive('df-d61f13eb-75ca-42f8-9107-4ebffc82fa3e')\"\n",
              "              title=\"Convert this dataframe to an interactive table.\"\n",
              "              style=\"display:none;\">\n",
              "        \n",
              "  <svg xmlns=\"http://www.w3.org/2000/svg\" height=\"24px\"viewBox=\"0 0 24 24\"\n",
              "       width=\"24px\">\n",
              "    <path d=\"M0 0h24v24H0V0z\" fill=\"none\"/>\n",
              "    <path d=\"M18.56 5.44l.94 2.06.94-2.06 2.06-.94-2.06-.94-.94-2.06-.94 2.06-2.06.94zm-11 1L8.5 8.5l.94-2.06 2.06-.94-2.06-.94L8.5 2.5l-.94 2.06-2.06.94zm10 10l.94 2.06.94-2.06 2.06-.94-2.06-.94-.94-2.06-.94 2.06-2.06.94z\"/><path d=\"M17.41 7.96l-1.37-1.37c-.4-.4-.92-.59-1.43-.59-.52 0-1.04.2-1.43.59L10.3 9.45l-7.72 7.72c-.78.78-.78 2.05 0 2.83L4 21.41c.39.39.9.59 1.41.59.51 0 1.02-.2 1.41-.59l7.78-7.78 2.81-2.81c.8-.78.8-2.07 0-2.86zM5.41 20L4 18.59l7.72-7.72 1.47 1.35L5.41 20z\"/>\n",
              "  </svg>\n",
              "      </button>\n",
              "      \n",
              "  <style>\n",
              "    .colab-df-container {\n",
              "      display:flex;\n",
              "      flex-wrap:wrap;\n",
              "      gap: 12px;\n",
              "    }\n",
              "\n",
              "    .colab-df-convert {\n",
              "      background-color: #E8F0FE;\n",
              "      border: none;\n",
              "      border-radius: 50%;\n",
              "      cursor: pointer;\n",
              "      display: none;\n",
              "      fill: #1967D2;\n",
              "      height: 32px;\n",
              "      padding: 0 0 0 0;\n",
              "      width: 32px;\n",
              "    }\n",
              "\n",
              "    .colab-df-convert:hover {\n",
              "      background-color: #E2EBFA;\n",
              "      box-shadow: 0px 1px 2px rgba(60, 64, 67, 0.3), 0px 1px 3px 1px rgba(60, 64, 67, 0.15);\n",
              "      fill: #174EA6;\n",
              "    }\n",
              "\n",
              "    [theme=dark] .colab-df-convert {\n",
              "      background-color: #3B4455;\n",
              "      fill: #D2E3FC;\n",
              "    }\n",
              "\n",
              "    [theme=dark] .colab-df-convert:hover {\n",
              "      background-color: #434B5C;\n",
              "      box-shadow: 0px 1px 3px 1px rgba(0, 0, 0, 0.15);\n",
              "      filter: drop-shadow(0px 1px 2px rgba(0, 0, 0, 0.3));\n",
              "      fill: #FFFFFF;\n",
              "    }\n",
              "  </style>\n",
              "\n",
              "      <script>\n",
              "        const buttonEl =\n",
              "          document.querySelector('#df-d61f13eb-75ca-42f8-9107-4ebffc82fa3e button.colab-df-convert');\n",
              "        buttonEl.style.display =\n",
              "          google.colab.kernel.accessAllowed ? 'block' : 'none';\n",
              "\n",
              "        async function convertToInteractive(key) {\n",
              "          const element = document.querySelector('#df-d61f13eb-75ca-42f8-9107-4ebffc82fa3e');\n",
              "          const dataTable =\n",
              "            await google.colab.kernel.invokeFunction('convertToInteractive',\n",
              "                                                     [key], {});\n",
              "          if (!dataTable) return;\n",
              "\n",
              "          const docLinkHtml = 'Like what you see? Visit the ' +\n",
              "            '<a target=\"_blank\" href=https://colab.research.google.com/notebooks/data_table.ipynb>data table notebook</a>'\n",
              "            + ' to learn more about interactive tables.';\n",
              "          element.innerHTML = '';\n",
              "          dataTable['output_type'] = 'display_data';\n",
              "          await google.colab.output.renderOutput(dataTable, element);\n",
              "          const docLink = document.createElement('div');\n",
              "          docLink.innerHTML = docLinkHtml;\n",
              "          element.appendChild(docLink);\n",
              "        }\n",
              "      </script>\n",
              "    </div>\n",
              "  </div>\n",
              "  "
            ]
          },
          "metadata": {},
          "execution_count": 29
        }
      ],
      "source": [
        "#Add date colummn\n",
        "df_new=data_tweets.copy()\n",
        "df_new[\"date_col\"]=d\n",
        "\n",
        "df_new.head(3)"
      ]
    },
    {
      "cell_type": "code",
      "execution_count": null,
      "metadata": {
        "id": "nBXKKm_hChlc",
        "colab": {
          "base_uri": "https://localhost:8080/"
        },
        "outputId": "cd373f2a-b910-4045-e5c3-c1eac7a078f0"
      },
      "outputs": [
        {
          "output_type": "stream",
          "name": "stdout",
          "text": [
            "2020-08-15    0.000000\n",
            "2020-08-16    0.000000\n",
            "2020-08-17    0.243951\n",
            "2020-08-18    0.369388\n",
            "2020-08-19    0.366992\n",
            "                ...   \n",
            "2022-05-27    0.279985\n",
            "2022-05-28    0.000000\n",
            "2022-05-29    0.000000\n",
            "2022-05-30    0.336825\n",
            "2022-05-31    0.000000\n",
            "Freq: D, Name: Positivity, Length: 655, dtype: float64\n"
          ]
        }
      ],
      "source": [
        "df_final=df_new.groupby('date_col')['Positivity'].mean()\n",
        "idx = pd.date_range('08-15-2020', '05-31-2022')\n",
        "df_final.index = pd.DatetimeIndex(df_final.index)\n",
        "df_final = df_final.reindex(idx, fill_value=0)\n",
        "print(df_final)"
      ]
    },
    {
      "cell_type": "code",
      "execution_count": null,
      "metadata": {
        "id": "ukTegcFvOtIK",
        "colab": {
          "base_uri": "https://localhost:8080/"
        },
        "outputId": "28e80c1a-ecf0-43d0-df2d-713fb137e4a9"
      },
      "outputs": [
        {
          "output_type": "stream",
          "name": "stdout",
          "text": [
            "2020-08-15    0.254663\n",
            "2020-08-16    0.255051\n",
            "2020-08-17    0.243951\n",
            "2020-08-18    0.369388\n",
            "2020-08-19    0.366992\n",
            "                ...   \n",
            "2022-05-27    0.279985\n",
            "2022-05-28    0.341850\n",
            "2022-05-29    0.342372\n",
            "2022-05-30    0.336825\n",
            "2022-05-31    0.342894\n",
            "Freq: D, Name: Positivity, Length: 655, dtype: float64\n"
          ]
        }
      ],
      "source": [
        "import numpy as np\n",
        "for i in range(len(df_final)):\n",
        "  if df_final[i]==0:\n",
        "    df_final[i]=df_final.mean()\n",
        "print(df_final)"
      ]
    },
    {
      "cell_type": "code",
      "execution_count": null,
      "metadata": {
        "id": "nQEAJ5aaRoXe"
      },
      "outputs": [],
      "source": [
        "df_final.to_csv(\"data_tweets.csv\")"
      ]
    }
  ],
  "metadata": {
    "colab": {
      "collapsed_sections": [],
      "name": "Get_tweet_final.ipynb",
      "provenance": [],
      "include_colab_link": true
    },
    "kernelspec": {
      "display_name": "Python 3",
      "name": "python3"
    },
    "language_info": {
      "name": "python"
    }
  },
  "nbformat": 4,
  "nbformat_minor": 0
}